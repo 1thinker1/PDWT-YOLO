{
 "cells": [
  {
   "cell_type": "code",
   "execution_count": null,
   "id": "4fd768c5-1720-4c14-9011-672587513472",
   "metadata": {},
   "outputs": [],
   "source": [
    "import math\n",
    "import os\n",
    "import random\n",
    "from copy import copy\n",
    "from pathlib import Path\n",
    "\n",
    "import cv2\n",
    "import matplotlib\n",
    "import matplotlib.pyplot as plt\n",
    "import numpy as np\n",
    "import pandas as pd\n",
    "import seaborn as sns\n",
    "import torch\n",
    "import yaml\n",
    "from PIL import Image, ImageDraw, ImageFont\n",
    "from scipy.signal import butter, filtfilt\n",
    "\n",
    "def plot_results(start=0, stop=0, bucket='', id=(), labels=(), save_dir=''):\n",
    "    # Plot training 'results*.txt'. from utils.plots import *; plot_results(save_dir='runs/train/exp')\n",
    "    fig, ax = plt.subplots(2, 5, figsize=(12, 6), tight_layout=True)\n",
    "    ax = ax.ravel()\n",
    "    s = ['Box', 'Objectness', 'Classification', 'Precision', 'Recall',\n",
    "         'val Box', 'val Objectness', 'val Classification', 'mAP@0.5', 'mAP@0.5:0.95']\n",
    "    if bucket:\n",
    "        # files = ['https://storage.googleapis.com/%s/results%g.txt' % (bucket, x) for x in id]\n",
    "        files = ['results%g.txt' % x for x in id]\n",
    "        c = ('gsutil cp ' + '%s ' * len(files) + '.') % tuple('gs://%s/results%g.txt' % (bucket, x) for x in id)\n",
    "        os.system(c)\n",
    "    else:\n",
    "        files = list(Path(save_dir).glob('results*.txt'))\n",
    "    assert len(files), 'No results.txt files found in %s, nothing to plot.' % os.path.abspath(save_dir)\n",
    "    for fi, f in enumerate(files):\n",
    "        try:\n",
    "            results = np.loadtxt(f, usecols=[2, 3, 4, 8, 9, 12, 13, 14, 10, 11], ndmin=2).T\n",
    "            n = results.shape[1]  # number of rows\n",
    "            x = range(start, min(stop, n) if stop else n)\n",
    "            for i in range(10):\n",
    "                y = results[i, x]\n",
    "                if i in [0, 1, 2, 5, 6, 7]:\n",
    "                    y[y == 0] = np.nan  # don't show zero loss values\n",
    "                    # y /= y[0]  # normalize\n",
    "                label = labels[fi] if len(labels) else f.stem\n",
    "                ax[i].plot(x, y, marker='.', label=label, linewidth=2, markersize=8)\n",
    "                ax[i].set_title(s[i])\n",
    "                # if i in [5, 6, 7]:  # share train and val loss y axes\n",
    "                #     ax[i].get_shared_y_axes().join(ax[i], ax[i - 5])\n",
    "        except Exception as e:\n",
    "            print('Warning: Plotting error for %s; %s' % (f, e))\n",
    "\n",
    "    ax[1].legend()\n",
    "\n",
    "plot_results()"
   ]
  }
 ],
 "metadata": {
  "kernelspec": {
   "display_name": "Python 3 (ipykernel)",
   "language": "python",
   "name": "python3"
  },
  "language_info": {
   "codemirror_mode": {
    "name": "ipython",
    "version": 3
   },
   "file_extension": ".py",
   "mimetype": "text/x-python",
   "name": "python",
   "nbconvert_exporter": "python",
   "pygments_lexer": "ipython3",
   "version": "3.8.10"
  }
 },
 "nbformat": 4,
 "nbformat_minor": 5
}
